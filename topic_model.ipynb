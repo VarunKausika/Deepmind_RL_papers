{
 "cells": [
  {
   "cell_type": "code",
   "execution_count": 10,
   "metadata": {},
   "outputs": [],
   "source": [
    "import os, re, sys, arxiv, csv\n",
    "\n",
    "def fix_title(title: str) -> str:\n",
    "    return re.sub(r'[<>:\"/\\\\|?*]', \"_\", re.sub(r\"\\s*\\n+\\s*\", \" \", title))\n",
    "\n",
    "def paper_to_filename(paper: arxiv.Result) -> str:\n",
    "    author_str = str(paper.authors[0]) + \" et al.\" * (len(paper.authors) > 1)\n",
    "    return f\"{author_str} - {fix_title(paper.title)}.pdf\"\n",
    "\n",
    "def parse_line(line: str):\n",
    "    m = re.match(r\".*(?P<paper_id>\\d{4}\\.\\d{4,6}(v\\d+)?)(\\.pdf)?$\", line)\n",
    "    return m.group(\"paper_id\") if m is not None else None"
   ]
  },
  {
   "cell_type": "code",
   "execution_count": 11,
   "metadata": {},
   "outputs": [],
   "source": [
    "import pandas as pd\n",
    "paper_df = pd.DataFrame(columns=['date', 'title', 'authors', 'abstract', 'url'])\n",
    "with open(\"deepmind_RL_research.csv\", 'r') as file:\n",
    "    csvreader = csv.reader(file)\n",
    "    paper_ids = [parse_line(row[0]) for row in csvreader]\n",
    "    paper_ids = [x for x in paper_ids if x is not None]\n",
    "    papers = arxiv.Search(id_list=paper_ids).results()\n",
    "\n",
    "    # print(len(paper_ids))\n",
    "    for paper, paper_id in zip(papers, paper_ids):\n",
    "        paper_df.loc[len(paper_df.index)] = [paper.published, str(paper.title), [str(x) for x in paper.authors], str(paper.summary), paper.entry_id]\n",
    "        # print(f\"file:    {dst_filename}\")\n",
    "        # print(f\"abstract: {paper.summary}\")\n",
    "        # print(f\"url:     {paper.entry_id}\")\n",
    "        # print(f\"authors: {[str(x) for x in paper.authors]}\")\n",
    "        # print(f\"title:   {paper.title}\\n\")"
   ]
  },
  {
   "cell_type": "code",
   "execution_count": 13,
   "metadata": {},
   "outputs": [
    {
     "data": {
      "text/html": [
       "<div>\n",
       "<style scoped>\n",
       "    .dataframe tbody tr th:only-of-type {\n",
       "        vertical-align: middle;\n",
       "    }\n",
       "\n",
       "    .dataframe tbody tr th {\n",
       "        vertical-align: top;\n",
       "    }\n",
       "\n",
       "    .dataframe thead th {\n",
       "        text-align: right;\n",
       "    }\n",
       "</style>\n",
       "<table border=\"1\" class=\"dataframe\">\n",
       "  <thead>\n",
       "    <tr style=\"text-align: right;\">\n",
       "      <th></th>\n",
       "      <th>date</th>\n",
       "      <th>title</th>\n",
       "      <th>authors</th>\n",
       "      <th>abstract</th>\n",
       "      <th>url</th>\n",
       "    </tr>\n",
       "  </thead>\n",
       "  <tbody>\n",
       "    <tr>\n",
       "      <th>0</th>\n",
       "      <td>2023-02-13 04:02:53+00:00</td>\n",
       "      <td>Universal Agent Mixtures and the Geometry of I...</td>\n",
       "      <td>[Samuel Allen Alexander, David Quarel, Len Du,...</td>\n",
       "      <td>Inspired by recent progress in multi-agent Rei...</td>\n",
       "      <td>http://arxiv.org/abs/2302.06083v1</td>\n",
       "    </tr>\n",
       "    <tr>\n",
       "      <th>1</th>\n",
       "      <td>2023-02-09 15:22:09+00:00</td>\n",
       "      <td>Scaling Goal-based Exploration via Pruning Pro...</td>\n",
       "      <td>[Akhil Bagaria, Ray Jiang, Ramana Kumar, Tom S...</td>\n",
       "      <td>One of the gnarliest challenges in reinforceme...</td>\n",
       "      <td>http://arxiv.org/abs/2302.04693v1</td>\n",
       "    </tr>\n",
       "    <tr>\n",
       "      <th>2</th>\n",
       "      <td>2023-03-07 16:25:52+00:00</td>\n",
       "      <td>Exploration via Epistemic Value Estimation</td>\n",
       "      <td>[Simon Schmitt, John Shawe-Taylor, Hado van Ha...</td>\n",
       "      <td>How to efficiently explore in reinforcement le...</td>\n",
       "      <td>http://arxiv.org/abs/2303.04012v1</td>\n",
       "    </tr>\n",
       "    <tr>\n",
       "      <th>3</th>\n",
       "      <td>2023-01-29 18:21:05+00:00</td>\n",
       "      <td>Distilling Internet-Scale Vision-Language Mode...</td>\n",
       "      <td>[Theodore Sumers, Kenneth Marino, Arun Ahuja, ...</td>\n",
       "      <td>Instruction-following agents must ground langu...</td>\n",
       "      <td>http://arxiv.org/abs/2301.12507v2</td>\n",
       "    </tr>\n",
       "    <tr>\n",
       "      <th>4</th>\n",
       "      <td>2022-09-28 20:49:34+00:00</td>\n",
       "      <td>Optimistic Posterior Sampling for Reinforcemen...</td>\n",
       "      <td>[Daniil Tiapkin, Denis Belomestny, Daniele Cal...</td>\n",
       "      <td>We consider reinforcement learning in an envir...</td>\n",
       "      <td>http://arxiv.org/abs/2209.14414v1</td>\n",
       "    </tr>\n",
       "  </tbody>\n",
       "</table>\n",
       "</div>"
      ],
      "text/plain": [
       "                       date  \\\n",
       "0 2023-02-13 04:02:53+00:00   \n",
       "1 2023-02-09 15:22:09+00:00   \n",
       "2 2023-03-07 16:25:52+00:00   \n",
       "3 2023-01-29 18:21:05+00:00   \n",
       "4 2022-09-28 20:49:34+00:00   \n",
       "\n",
       "                                               title  \\\n",
       "0  Universal Agent Mixtures and the Geometry of I...   \n",
       "1  Scaling Goal-based Exploration via Pruning Pro...   \n",
       "2         Exploration via Epistemic Value Estimation   \n",
       "3  Distilling Internet-Scale Vision-Language Mode...   \n",
       "4  Optimistic Posterior Sampling for Reinforcemen...   \n",
       "\n",
       "                                             authors  \\\n",
       "0  [Samuel Allen Alexander, David Quarel, Len Du,...   \n",
       "1  [Akhil Bagaria, Ray Jiang, Ramana Kumar, Tom S...   \n",
       "2  [Simon Schmitt, John Shawe-Taylor, Hado van Ha...   \n",
       "3  [Theodore Sumers, Kenneth Marino, Arun Ahuja, ...   \n",
       "4  [Daniil Tiapkin, Denis Belomestny, Daniele Cal...   \n",
       "\n",
       "                                            abstract  \\\n",
       "0  Inspired by recent progress in multi-agent Rei...   \n",
       "1  One of the gnarliest challenges in reinforceme...   \n",
       "2  How to efficiently explore in reinforcement le...   \n",
       "3  Instruction-following agents must ground langu...   \n",
       "4  We consider reinforcement learning in an envir...   \n",
       "\n",
       "                                 url  \n",
       "0  http://arxiv.org/abs/2302.06083v1  \n",
       "1  http://arxiv.org/abs/2302.04693v1  \n",
       "2  http://arxiv.org/abs/2303.04012v1  \n",
       "3  http://arxiv.org/abs/2301.12507v2  \n",
       "4  http://arxiv.org/abs/2209.14414v1  "
      ]
     },
     "execution_count": 13,
     "metadata": {},
     "output_type": "execute_result"
    }
   ],
   "source": [
    "paper_df.head()"
   ]
  },
  {
   "cell_type": "code",
   "execution_count": 22,
   "metadata": {},
   "outputs": [
    {
     "name": "stderr",
     "output_type": "stream",
     "text": [
      "FloatObject (b'0.00-10') invalid; use 0.0 instead\n",
      "FloatObject (b'0.00-10') invalid; use 0.0 instead\n",
      "FloatObject (b'0.00-10') invalid; use 0.0 instead\n",
      "FloatObject (b'0.00-10') invalid; use 0.0 instead\n"
     ]
    }
   ],
   "source": [
    "import os \n",
    "from PyPDF2 import PdfReader\n",
    "\n",
    "docs = []\n",
    "filenames = os.listdir('Papers')\n",
    "for filename in filenames: \n",
    "    text = ''\n",
    "    reader = PdfReader(f'Papers/{filename}')  \n",
    "    for page in reader.pages:\n",
    "        text += page.extract_text() \n",
    "    docs.append(text)"
   ]
  },
  {
   "cell_type": "code",
   "execution_count": 24,
   "metadata": {},
   "outputs": [],
   "source": [
    "from top2vec import Top2Vec"
   ]
  },
  {
   "cell_type": "code",
   "execution_count": 25,
   "metadata": {},
   "outputs": [
    {
     "name": "stderr",
     "output_type": "stream",
     "text": [
      "2023-10-03 00:12:59,289 - top2vec - INFO - Pre-processing documents for training\n"
     ]
    },
    {
     "name": "stderr",
     "output_type": "stream",
     "text": [
      "2023-10-03 00:13:03,601 - top2vec - INFO - Creating joint document/word embedding\n",
      "2023-10-03 00:14:54,273 - top2vec - INFO - Creating lower dimension embedding of documents\n",
      "2023-10-03 00:14:56,817 - top2vec - INFO - Finding dense areas of documents\n",
      "2023-10-03 00:14:56,825 - top2vec - INFO - Finding topics\n"
     ]
    }
   ],
   "source": [
    "model = Top2Vec(docs)"
   ]
  },
  {
   "cell_type": "code",
   "execution_count": 27,
   "metadata": {},
   "outputs": [
    {
     "name": "stdout",
     "output_type": "stream",
     "text": [
      "[138  59]\n"
     ]
    }
   ],
   "source": [
    "topic_sizes, topic_nums = model.get_topic_sizes()\n",
    "print(topic_sizes)"
   ]
  },
  {
   "cell_type": "code",
   "execution_count": 28,
   "metadata": {},
   "outputs": [],
   "source": [
    "topic_words, word_scores, topic_nums = model.get_topics()"
   ]
  },
  {
   "cell_type": "code",
   "execution_count": 29,
   "metadata": {},
   "outputs": [
    {
     "name": "stdout",
     "output_type": "stream",
     "text": [
      "0\n",
      "Words: ['mnih' 'deep' 'atari' 'learning' 'networks' 'recurrent' 'transfer'\n",
      " 'visual' 'tasks' 'prioritized' 'progress' 'replay' 'architectures'\n",
      " 'memory' 'representations' 'multitask' 'scene' 'control' 'bellemare'\n",
      " 'unsupervised' 'robot' 'images' 'mirowski' 'architecture'\n",
      " 'representation' 'neural' 'learn' 'silver' 'rich' 'schaul' 'distributed'\n",
      " 'rainbow' 'features' 'robotics' 'image' 'continual' 'sutton'\n",
      " 'asynchronous' 'hinton' 'riedmiller' 'attention' 'approximators'\n",
      " 'parallel' 'convolutional' 'unicorn' 'raw' 'espeholt' 'suite' 'heess'\n",
      " 'hasselt']\n",
      "1\n",
      "Words: ['regret' 'bounds' 'bound' 'concentration' 'ﬁnite' 'optimistic'\n",
      " 'domingues' 'jin' 'minimax' 'prove' 'complexity' 'ucrl' 'armed' 'ssp'\n",
      " 'bandits' 'upper' 'bonuses' 'menard' 'monitoring' 'lemma' 'eo' 'ucbvi'\n",
      " 'bounded' 'auer' 'polynomial' 'finite' 'guarantee' 'probability'\n",
      " 'equilibria' 'nash' 'logarithmic' 'sat' 'assumption' 'inequality'\n",
      " 'fictitious' 'ids' 'analysis' 'theoretic' 'theorem' 'equilibrium'\n",
      " 'lattimore' 'mdp' 'thompson' 'dependence' 'remark' '𝑎º' 'optimism'\n",
      " 'opsrl' 'parenrightbigg' 'holds']\n"
     ]
    }
   ],
   "source": [
    "for words, scores, num in zip(topic_words, word_scores, topic_nums):\n",
    "    print(num)\n",
    "    print(f\"Words: {words}\")"
   ]
  },
  {
   "cell_type": "code",
   "execution_count": 44,
   "metadata": {},
   "outputs": [],
   "source": [
    "# visualization \n",
    "df_0 = pd.DataFrame(columns=['document', 'scores_0'])\n",
    "df_1 = pd.DataFrame(columns=['document', 'scores_1'])\n",
    "documents, document_scores, document_ids = model.search_documents_by_topic(topic_num=0, num_docs = topic_sizes[0])\n",
    "for doc, score, id in zip(documents, document_scores, document_ids):\n",
    "    df_0.loc[id] = [doc, score]\n",
    "\n",
    "\n",
    "documents, document_scores, document_ids = model.search_documents_by_topic(topic_num=1, num_docs = topic_sizes[1])\n",
    "for doc, score, id in zip(documents, document_scores, document_ids):\n",
    "    df_1.loc[id] = [doc, score]"
   ]
  },
  {
   "cell_type": "code",
   "execution_count": 48,
   "metadata": {},
   "outputs": [
    {
     "name": "stderr",
     "output_type": "stream",
     "text": [
      "C:\\Users\\varun\\AppData\\Local\\Temp\\ipykernel_2240\\1026262614.py:1: FutureWarning: The behavior of `series[i:j]` with an integer-dtype index is deprecated. In a future version, this will be treated as *label-based* indexing, consistent with e.g. `series[i]` lookups. To retain the old behavior, use `series.iloc[i:j]`. To get the future behavior, use `series.loc[i:j]`.\n",
      "  df_0['scores_0'][:20].plot(kind='bar')\n"
     ]
    },
    {
     "data": {
      "text/plain": [
       "<AxesSubplot: >"
      ]
     },
     "execution_count": 48,
     "metadata": {},
     "output_type": "execute_result"
    },
    {
     "data": {
      "image/png": "[encoded data removed]",
      "text/plain": [
       "<Figure size 640x480 with 1 Axes>"
      ]
     },
     "metadata": {},
     "output_type": "display_data"
    }
   ],
   "source": [
    "df_0['scores_0'][:20].plot(kind='bar')"
   ]
  },
  {
   "cell_type": "code",
   "execution_count": 49,
   "metadata": {},
   "outputs": [
    {
     "name": "stderr",
     "output_type": "stream",
     "text": [
      "C:\\Users\\varun\\AppData\\Local\\Temp\\ipykernel_2240\\2426356649.py:1: FutureWarning: The behavior of `series[i:j]` with an integer-dtype index is deprecated. In a future version, this will be treated as *label-based* indexing, consistent with e.g. `series[i]` lookups. To retain the old behavior, use `series.iloc[i:j]`. To get the future behavior, use `series.loc[i:j]`.\n",
      "  df_1['scores_1'][:20].plot(kind='bar')\n"
     ]
    },
    {
     "data": {
      "text/plain": [
       "<AxesSubplot: >"
      ]
     },
     "execution_count": 49,
     "metadata": {},
     "output_type": "execute_result"
    },
    {
     "data": {
      "image/png": "[encoded data removed]",
      "text/plain": [
       "<Figure size 640x480 with 1 Axes>"
      ]
     },
     "metadata": {},
     "output_type": "display_data"
    }
   ],
   "source": [
    "df_1['scores_1'][:20].plot(kind='bar')"
   ]
  },
  {
   "cell_type": "code",
   "execution_count": 53,
   "metadata": {},
   "outputs": [
    {
     "data": {
      "text/html": [
       "<div>\n",
       "<style scoped>\n",
       "    .dataframe tbody tr th:only-of-type {\n",
       "        vertical-align: middle;\n",
       "    }\n",
       "\n",
       "    .dataframe tbody tr th {\n",
       "        vertical-align: top;\n",
       "    }\n",
       "\n",
       "    .dataframe thead th {\n",
       "        text-align: right;\n",
       "    }\n",
       "</style>\n",
       "<table border=\"1\" class=\"dataframe\">\n",
       "  <thead>\n",
       "    <tr style=\"text-align: right;\">\n",
       "      <th></th>\n",
       "      <th>document</th>\n",
       "      <th>scores_0</th>\n",
       "    </tr>\n",
       "  </thead>\n",
       "  <tbody>\n",
       "    <tr>\n",
       "      <th>178</th>\n",
       "      <td>Discovery of Useful Questions as Auxiliary Tas...</td>\n",
       "      <td>0.394721</td>\n",
       "    </tr>\n",
       "    <tr>\n",
       "      <th>115</th>\n",
       "      <td>Rainbow: Combining Improvements in Deep Reinfo...</td>\n",
       "      <td>0.392221</td>\n",
       "    </tr>\n",
       "    <tr>\n",
       "      <th>25</th>\n",
       "      <td>Massively Parallel Methods for Deep Reinforcem...</td>\n",
       "      <td>0.391999</td>\n",
       "    </tr>\n",
       "    <tr>\n",
       "      <th>159</th>\n",
       "      <td>Simple Sensor Intentions for Exploration\\nTim ...</td>\n",
       "      <td>0.389492</td>\n",
       "    </tr>\n",
       "    <tr>\n",
       "      <th>9</th>\n",
       "      <td>Neural Episodic Control\\nAlexander Pritzel APR...</td>\n",
       "      <td>0.382246</td>\n",
       "    </tr>\n",
       "    <tr>\n",
       "      <th>32</th>\n",
       "      <td>Published as a conference paper at ICLR 2017\\n...</td>\n",
       "      <td>0.377728</td>\n",
       "    </tr>\n",
       "    <tr>\n",
       "      <th>63</th>\n",
       "      <td>Deep Reinforcement Learning and the Deadly Tri...</td>\n",
       "      <td>0.369710</td>\n",
       "    </tr>\n",
       "    <tr>\n",
       "      <th>114</th>\n",
       "      <td>July 8, 2019\\nOn Inductive Biases in Deep Rein...</td>\n",
       "      <td>0.367074</td>\n",
       "    </tr>\n",
       "    <tr>\n",
       "      <th>151</th>\n",
       "      <td>Fast deep reinforcement learning using online\\...</td>\n",
       "      <td>0.366646</td>\n",
       "    </tr>\n",
       "    <tr>\n",
       "      <th>185</th>\n",
       "      <td>Synthesizing Programs for Images using Reinfor...</td>\n",
       "      <td>0.361631</td>\n",
       "    </tr>\n",
       "  </tbody>\n",
       "</table>\n",
       "</div>"
      ],
      "text/plain": [
       "                                              document  scores_0\n",
       "178  Discovery of Useful Questions as Auxiliary Tas...  0.394721\n",
       "115  Rainbow: Combining Improvements in Deep Reinfo...  0.392221\n",
       "25   Massively Parallel Methods for Deep Reinforcem...  0.391999\n",
       "159  Simple Sensor Intentions for Exploration\\nTim ...  0.389492\n",
       "9    Neural Episodic Control\\nAlexander Pritzel APR...  0.382246\n",
       "32   Published as a conference paper at ICLR 2017\\n...  0.377728\n",
       "63   Deep Reinforcement Learning and the Deadly Tri...  0.369710\n",
       "114  July 8, 2019\\nOn Inductive Biases in Deep Rein...  0.367074\n",
       "151  Fast deep reinforcement learning using online\\...  0.366646\n",
       "185  Synthesizing Programs for Images using Reinfor...  0.361631"
      ]
     },
     "execution_count": 53,
     "metadata": {},
     "output_type": "execute_result"
    }
   ],
   "source": [
    "df_0.sort_values(by='scores_0', ascending=False)[:10]"
   ]
  },
  {
   "cell_type": "code",
   "execution_count": 54,
   "metadata": {},
   "outputs": [
    {
     "data": {
      "text/html": [
       "<div>\n",
       "<style scoped>\n",
       "    .dataframe tbody tr th:only-of-type {\n",
       "        vertical-align: middle;\n",
       "    }\n",
       "\n",
       "    .dataframe tbody tr th {\n",
       "        vertical-align: top;\n",
       "    }\n",
       "\n",
       "    .dataframe thead th {\n",
       "        text-align: right;\n",
       "    }\n",
       "</style>\n",
       "<table border=\"1\" class=\"dataframe\">\n",
       "  <thead>\n",
       "    <tr style=\"text-align: right;\">\n",
       "      <th></th>\n",
       "      <th>document</th>\n",
       "      <th>scores_1</th>\n",
       "    </tr>\n",
       "  </thead>\n",
       "  <tbody>\n",
       "    <tr>\n",
       "      <th>58</th>\n",
       "      <td>Proceedings of Machine Learning Research vol 1...</td>\n",
       "      <td>0.455724</td>\n",
       "    </tr>\n",
       "    <tr>\n",
       "      <th>127</th>\n",
       "      <td>arXiv:2010.03531v1  [cs.LG]  7 Oct 2020Episodi...</td>\n",
       "      <td>0.450282</td>\n",
       "    </tr>\n",
       "    <tr>\n",
       "      <th>42</th>\n",
       "      <td>Optimistic Posterior Sampling for Reinforcemen...</td>\n",
       "      <td>0.419992</td>\n",
       "    </tr>\n",
       "    <tr>\n",
       "      <th>128</th>\n",
       "      <td>Kernel-Based Reinforcement Learning: A Finite-...</td>\n",
       "      <td>0.413230</td>\n",
       "    </tr>\n",
       "    <tr>\n",
       "      <th>132</th>\n",
       "      <td>UCB Momentum Q-learning:\\nCorrecting the bias ...</td>\n",
       "      <td>0.409240</td>\n",
       "    </tr>\n",
       "    <tr>\n",
       "      <th>173</th>\n",
       "      <td>arXiv:1911.07676v2  [stat.ML]  19 Feb 2020Lear...</td>\n",
       "      <td>0.389249</td>\n",
       "    </tr>\n",
       "    <tr>\n",
       "      <th>126</th>\n",
       "      <td>A Kernel-Based Approach to Non-Stationary\\nRei...</td>\n",
       "      <td>0.388356</td>\n",
       "    </tr>\n",
       "    <tr>\n",
       "      <th>52</th>\n",
       "      <td>Proceedings of Machine Learning Research vol 1...</td>\n",
       "      <td>0.388334</td>\n",
       "    </tr>\n",
       "    <tr>\n",
       "      <th>180</th>\n",
       "      <td>arXiv:2008.07353v1  [cs.LG]  17 Aug 2020On the...</td>\n",
       "      <td>0.388237</td>\n",
       "    </tr>\n",
       "    <tr>\n",
       "      <th>85</th>\n",
       "      <td>Information Directed Sampling for Linear Parti...</td>\n",
       "      <td>0.386532</td>\n",
       "    </tr>\n",
       "  </tbody>\n",
       "</table>\n",
       "</div>"
      ],
      "text/plain": [
       "                                              document  scores_1\n",
       "58   Proceedings of Machine Learning Research vol 1...  0.455724\n",
       "127  arXiv:2010.03531v1  [cs.LG]  7 Oct 2020Episodi...  0.450282\n",
       "42   Optimistic Posterior Sampling for Reinforcemen...  0.419992\n",
       "128  Kernel-Based Reinforcement Learning: A Finite-...  0.413230\n",
       "132  UCB Momentum Q-learning:\\nCorrecting the bias ...  0.409240\n",
       "173  arXiv:1911.07676v2  [stat.ML]  19 Feb 2020Lear...  0.389249\n",
       "126  A Kernel-Based Approach to Non-Stationary\\nRei...  0.388356\n",
       "52   Proceedings of Machine Learning Research vol 1...  0.388334\n",
       "180  arXiv:2008.07353v1  [cs.LG]  17 Aug 2020On the...  0.388237\n",
       "85   Information Directed Sampling for Linear Parti...  0.386532"
      ]
     },
     "execution_count": 54,
     "metadata": {},
     "output_type": "execute_result"
    }
   ],
   "source": [
    "df_1.sort_values(by='scores_1', ascending=False)[:10]"
   ]
  },
  {
   "cell_type": "code",
   "execution_count": null,
   "metadata": {},
   "outputs": [],
   "source": []
  }
 ],
 "metadata": {
  "kernelspec": {
   "display_name": "Python 3",
   "language": "python",
   "name": "python3"
  },
  "language_info": {
   "codemirror_mode": {
    "name": "ipython",
    "version": 3
   },
   "file_extension": ".py",
   "mimetype": "text/x-python",
   "name": "python",
   "nbconvert_exporter": "python",
   "pygments_lexer": "ipython3",
   "version": "3.10.8"
  },
  "orig_nbformat": 4
 },
 "nbformat": 4,
 "nbformat_minor": 2
}
